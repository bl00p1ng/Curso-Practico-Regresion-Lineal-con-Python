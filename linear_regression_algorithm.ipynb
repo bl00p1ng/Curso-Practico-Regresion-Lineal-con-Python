{
  "nbformat": 4,
  "nbformat_minor": 0,
  "metadata": {
    "colab": {
      "name": "linear_regression_algorithm.ipynb",
      "provenance": [],
      "authorship_tag": "ABX9TyMU3sci8OUotKQc6Ah/XrzV",
      "include_colab_link": true
    },
    "kernelspec": {
      "name": "python3",
      "display_name": "Python 3"
    },
    "language_info": {
      "name": "python"
    }
  },
  "cells": [
    {
      "cell_type": "markdown",
      "metadata": {
        "id": "view-in-github",
        "colab_type": "text"
      },
      "source": [
        "<a href=\"https://colab.research.google.com/github/bl00p1ng/Curso-Practico-Regresion-Lineal-con-Python/blob/main/linear_regression_algorithm.ipynb\" target=\"_parent\"><img src=\"https://colab.research.google.com/assets/colab-badge.svg\" alt=\"Open In Colab\"/></a>"
      ]
    },
    {
      "cell_type": "code",
      "metadata": {
        "id": "6fGoirExYYaL"
      },
      "source": [
        "import numpy as np\n",
        "import matplotlib.pyplot as plt"
      ],
      "execution_count": null,
      "outputs": []
    },
    {
      "cell_type": "markdown",
      "metadata": {
        "id": "-8_h1i0XfFpw"
      },
      "source": [
        "## Calcular la línea de regresión"
      ]
    },
    {
      "cell_type": "code",
      "metadata": {
        "id": "yZDL_hg3aYl4"
      },
      "source": [
        "def estimate_b0_b1(x, y):\n",
        "    # Get means of x and y\n",
        "    mean_x, mean_y = np.mean(x), np.mean(y)\n",
        "\n",
        "    # Calculate least squares\n",
        "    sum_xy = np.sum((x - mean_x) * (y - mean_y))\n",
        "    sum_xx = np.sum((x - mean_x)**2)\n",
        "\n",
        "    b_1 = sum_xy / sum_xx\n",
        "    b_0 = mean_y - b_1 * mean_x\n",
        "\n",
        "    return (b_0, b_1)"
      ],
      "execution_count": null,
      "outputs": []
    },
    {
      "cell_type": "markdown",
      "metadata": {
        "id": "-9TIR3atfOIJ"
      },
      "source": [
        "## Graficar la línea de regresión"
      ]
    },
    {
      "cell_type": "code",
      "metadata": {
        "id": "KxzT0XUQe6eO"
      },
      "source": [
        "def plot_regression(x, y, b):\n",
        "    plt.scatter(x, y, color='m', marker='o', s=30)\n",
        "\n",
        "    # Draw regression line\n",
        "    y_predictions = b[0] + b[1] * x\n",
        "    plt.plot(x, y_predictions, color='c')\n",
        "\n",
        "    # Tags\n",
        "    plt.xlabel('Horas de estudio')\n",
        "    plt.ylabel('Cursos aprobados')\n",
        "\n",
        "    plt.show()"
      ],
      "execution_count": null,
      "outputs": []
    },
    {
      "cell_type": "markdown",
      "metadata": {
        "id": "Tu_lhBmxnTIN"
      },
      "source": [
        "## Regresión Lineal aplicada"
      ]
    },
    {
      "cell_type": "code",
      "metadata": {
        "colab": {
          "base_uri": "https://localhost:8080/",
          "height": 313
        },
        "id": "qTL83_oog1OE",
        "outputId": "493ede2e-c69f-4ba4-f180-3a5b1b99e288"
      },
      "source": [
        "def main():\n",
        "    # Data\n",
        "    x = np.array([1, 2, 3, 4, 5])\n",
        "    y = np.array([2, 3, 5, 6, 5])\n",
        "\n",
        "    # Get b1 and b2\n",
        "    b = estimate_b0_b1(x, y)\n",
        "    print(f'b0 = {b[0]}\\nb1 = {b[1]}')\n",
        "\n",
        "    # Show plot\n",
        "    plot_regression(x, y, b)\n",
        "\n",
        "if __name__== \"__main__\":\n",
        "    main()"
      ],
      "execution_count": null,
      "outputs": [
        {
          "output_type": "stream",
          "text": [
            "b0 = 1.5\n",
            "b1 = 0.9\n"
          ],
          "name": "stdout"
        },
        {
          "output_type": "display_data",
          "data": {
            "image/png": "[encoded data removed]",
            "text/plain": [
              "<Figure size 432x288 with 1 Axes>"
            ]
          },
          "metadata": {
            "tags": [],
            "needs_background": "light"
          }
        }
      ]
    }
  ]
}